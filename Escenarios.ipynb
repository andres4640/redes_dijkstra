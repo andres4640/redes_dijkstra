{
 "cells": [
  {
   "cell_type": "markdown",
   "metadata": {},
   "source": [
    "# Algoritmo Dijkstra"
   ]
  },
  {
   "cell_type": "markdown",
   "metadata": {},
   "source": [
    "Los 3 escenarios a usar en la investigación:\n",
    "\n",
    "## Escenario 1:\n",
    "\n",
    "Numero de nodos: 7\n",
    "\n",
    "Numero de lados: 9\n",
    "\n",
    "![title](imagenes/escenario1v2.JPG)\n",
    "\n",
    "## Escenario 2:\n",
    "\n",
    "Numero de nodos: 10\n",
    "\n",
    "Numero de lados: 14\n",
    "\n",
    "![title](imagenes/escenario2.jpg)\n",
    "\n",
    "## Escenario 3:\n",
    "\n",
    "Numero de nodos: 17\n",
    "\n",
    "Numero de lados: 22\n",
    "\n",
    "![title](imagenes/escenario3v2.jpg)"
   ]
  },
  {
   "cell_type": "code",
   "execution_count": null,
   "metadata": {},
   "outputs": [],
   "source": [
    "class Nodo:\n",
    "    def __init__(self, nombre):\n",
    "        self.nombre = nombre\n",
    "\n",
    "class Enlace:\n",
    "    def __init__(self, siguiente_nodo, distancia):\n",
    "        self.siguiente_nodo = siguiente_nodo\n",
    "        self.distancia = distancia\n",
    "\n",
    "\n",
    "class Grafo:\n",
    "    def __init__(self):\n",
    "        self.nodos = set()\n",
    "        self.enlaces = dict()\n",
    "    def obtener_nodo(self, nombre):\n",
    "        for nod in self.nodos:\n",
    "            if nod.nombre == nombre:\n",
    "                return nod\n",
    "        return 0\n",
    "\n",
    "    def agregar_nodo(self, nodo):\n",
    "        self.nodos.add(nodo)\n",
    "\n",
    "    def agregar_enlace(self, nodo_actual, siguiente_nodo, distancia):\n",
    "        enlace = Enlace(siguiente_nodo, distancia)\n",
    "        if nodo_actual.nombre in self.enlaces:\n",
    "            nodo_actual_enlaces = self.enlaces[nodo_actual.nombre]\n",
    "        else:\n",
    "            self.enlaces[nodo_actual.nombre] = dict()\n",
    "            nodo_actual_enlaces = self.enlaces[nodo_actual.nombre]\n",
    "        nodo_actual_enlaces[siguiente_nodo.nombre] = enlace"
   ]
  },
  {
   "cell_type": "code",
   "execution_count": null,
   "metadata": {},
   "outputs": [],
   "source": [
    "def reporte(prev, dist, nodo_inicial, camino):\n",
    "    \n",
    "    print(\"Camino realizado:\")\n",
    "    contador = 1\n",
    "    texto = \"\"\n",
    "    for nodo in camino:\n",
    "        if contador ==1:\n",
    "            texto = str(nodo) + \"=>\"\n",
    "        else:\n",
    "            if contador == len(camino):\n",
    "                texto += str(nodo)\n",
    "            else:\n",
    "                texto += str(nodo) + \"=>\"\n",
    "        contador += 1\n",
    "                \n",
    "    print(texto)\n",
    "\n",
    "    dist = {k: v for k, v in sorted(dist.items(), key=lambda item: item[1])}\n",
    "\n",
    "    print(\"\\nLista de distancias: \\n\")\n",
    "\n",
    "    print(\"Nodo \\t Distancia\")\n",
    "    for nodo, distancia in dist.items():\n",
    "        print(\"{} \\t {}\".format(nodo.nombre, distancia))\n",
    "\n",
    "def CrearGrafo(direcc):\n",
    "    try:\n",
    "        with open(direcc) as txt:\n",
    "            content = txt.read().splitlines()\n",
    "            config = []\n",
    "            for linea in content:\n",
    "                config.append(linea)\n",
    "    \n",
    "    except Exception as e:\n",
    "        print(\"Error: \", str(e))\n",
    "        \n",
    "    num_nodos = config[0]\n",
    "    num_lados = config[1]\n",
    "    nodo_inicial = config[2]\n",
    "    \n",
    "    grafo = Grafo()\n",
    "    \n",
    "    for num in range(int(config[0])):\n",
    "        nuevo_nodo = Nodo(str(num))\n",
    "        grafo.agregar_nodo(nuevo_nodo)\n",
    "        \n",
    "    for linea in config[3:]:\n",
    "        datos_lado = linea.split(\",\")\n",
    "        nodo_a = datos_lado[0]\n",
    "        nodo_b = datos_lado[1]\n",
    "        distancia = datos_lado[2]\n",
    "        \n",
    "        grafo.agregar_enlace(grafo.obtener_nodo(nodo_a), grafo.obtener_nodo(nodo_b), int(distancia))\n",
    "\n",
    "    return grafo, grafo.obtener_nodo(nodo_inicial)\n",
    "\n",
    "\n",
    "def dijkstra(direccion):\n",
    "    \n",
    "    camino = []\n",
    "    \n",
    "    grafo , nodo_inicio = CrearGrafo(direccion)\n",
    "    \n",
    "    lista_nodos = set() # Lista con todos los nodos no visitados\n",
    "    dist = {} # Diccionario que contiene los nodos y sus distancias\n",
    "    prev = {} # Diccionario que contiene los nodos anteriores\n",
    "\n",
    "    for v in grafo.nodos:       \n",
    "        dist[v] = 999999      # Distancia desconocida desde el origen a los nodos\n",
    "        prev[v] = 999999      # Se agregan los nodos y sus valores segun el camino del algoritmo \n",
    "        lista_nodos.add(v)    # Se agregan todos los nodos al set \"lista_nodos\" --> Nodos no visitados\n",
    "\n",
    "    # Distancia del nodo al origen al mismo\n",
    "    dist[nodo_inicio] = 0\n",
    "    \n",
    "    while lista_nodos:\n",
    "        \n",
    "        # Se obtiene el nodo con la menor distancia\n",
    "        nodo_min = None\n",
    "        for nodo in lista_nodos:\n",
    "            if nodo_min == None:\n",
    "                nodo_min = nodo\n",
    "            elif dist[nodo] < dist[nodo_min]:\n",
    "                nodo_min = nodo\n",
    "        \n",
    "        #Se agrega el nodo a la variable camino para saber cual fue el camino que tomo el algoritmo\n",
    "        camino.append(nodo_min.nombre)\n",
    "        \n",
    "        lista_nodos.remove(nodo_min)\n",
    "        \n",
    "        if nodo_min.nombre in grafo.enlaces: # Se buscan los nodos adyacendes del Nodo Minimo\n",
    "            for _, valor in grafo.enlaces[nodo_min.nombre].items(): # Se itera entre los nodos adyacentes\n",
    "                alt = dist[nodo_min] + valor.distancia\n",
    "                if alt < dist[valor.siguiente_nodo]: \n",
    "                    # Se encuentra un camino mas corto a \"v\"\n",
    "                    dist[valor.siguiente_nodo] = alt\n",
    "                    prev[valor.siguiente_nodo] = nodo_min\n",
    "    \n",
    "    # Imprime el resultado\n",
    "    reporte(prev, dist, nodo_inicio, camino)"
   ]
  },
  {
   "cell_type": "markdown",
   "metadata": {},
   "source": [
    "## Escenario 1 :"
   ]
  },
  {
   "cell_type": "code",
   "execution_count": null,
   "metadata": {
    "scrolled": false
   },
   "outputs": [],
   "source": [
    "dijkstra(\"escenario1 v2.txt\")"
   ]
  },
  {
   "cell_type": "markdown",
   "metadata": {},
   "source": [
    "## Escenario 2 :"
   ]
  },
  {
   "cell_type": "code",
   "execution_count": null,
   "metadata": {},
   "outputs": [],
   "source": [
    "dijkstra(\"escenario2.txt\")"
   ]
  },
  {
   "cell_type": "markdown",
   "metadata": {},
   "source": [
    "## Escenario 3 :"
   ]
  },
  {
   "cell_type": "code",
   "execution_count": null,
   "metadata": {
    "scrolled": false
   },
   "outputs": [],
   "source": [
    "dijkstra(\"escenario3 v2.txt\")"
   ]
  },
  {
   "cell_type": "markdown",
   "metadata": {},
   "source": [
    "## Si sale error relacionado a los diccionarios: ingresar a Kernel --> Restart & clear Output"
   ]
  },
  {
   "cell_type": "markdown",
   "metadata": {},
   "source": [
    "Fuentes: \n",
    "\n",
    "https://gist.github.com/betandr/541a1f6466b6855471de5ca30b74cb31"
   ]
  }
 ],
 "metadata": {
  "kernelspec": {
   "display_name": "Python 3",
   "language": "python",
   "name": "python3"
  },
  "language_info": {
   "codemirror_mode": {
    "name": "ipython",
    "version": 3
   },
   "file_extension": ".py",
   "mimetype": "text/x-python",
   "name": "python",
   "nbconvert_exporter": "python",
   "pygments_lexer": "ipython3",
   "version": "3.7.4"
  }
 },
 "nbformat": 4,
 "nbformat_minor": 2
}
